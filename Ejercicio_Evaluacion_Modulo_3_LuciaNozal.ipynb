{
 "cells": [
  {
   "cell_type": "code",
   "execution_count": 337,
   "metadata": {},
   "outputs": [],
   "source": [
    "import pandas as pd\n",
    "import numpy as np\n",
    "import matplotlib.pyplot as plt\n",
    "import seaborn as sns\n",
    "import warnings"
   ]
  },
  {
   "cell_type": "code",
   "execution_count": 338,
   "metadata": {},
   "outputs": [],
   "source": [
    "# Configura la opción de visualización para mostrar todas las columnas del DataFrame, sin limitaciones.\n",
    "pd.set_option('display.max_columns', None)"
   ]
  },
  {
   "cell_type": "code",
   "execution_count": 339,
   "metadata": {},
   "outputs": [
    {
     "data": {
      "text/html": [
       "<div>\n",
       "<style scoped>\n",
       "    .dataframe tbody tr th:only-of-type {\n",
       "        vertical-align: middle;\n",
       "    }\n",
       "\n",
       "    .dataframe tbody tr th {\n",
       "        vertical-align: top;\n",
       "    }\n",
       "\n",
       "    .dataframe thead th {\n",
       "        text-align: right;\n",
       "    }\n",
       "</style>\n",
       "<table border=\"1\" class=\"dataframe\">\n",
       "  <thead>\n",
       "    <tr style=\"text-align: right;\">\n",
       "      <th></th>\n",
       "      <th>Loyalty Number</th>\n",
       "      <th>Year</th>\n",
       "      <th>Month</th>\n",
       "      <th>Flights Booked</th>\n",
       "      <th>Flights with Companions</th>\n",
       "      <th>Total Flights</th>\n",
       "      <th>Distance</th>\n",
       "      <th>Points Accumulated</th>\n",
       "      <th>Points Redeemed</th>\n",
       "      <th>Dollar Cost Points Redeemed</th>\n",
       "    </tr>\n",
       "  </thead>\n",
       "  <tbody>\n",
       "    <tr>\n",
       "      <th>0</th>\n",
       "      <td>100018</td>\n",
       "      <td>2017</td>\n",
       "      <td>1</td>\n",
       "      <td>3</td>\n",
       "      <td>0</td>\n",
       "      <td>3</td>\n",
       "      <td>1521</td>\n",
       "      <td>152.0</td>\n",
       "      <td>0</td>\n",
       "      <td>0</td>\n",
       "    </tr>\n",
       "    <tr>\n",
       "      <th>1</th>\n",
       "      <td>100102</td>\n",
       "      <td>2017</td>\n",
       "      <td>1</td>\n",
       "      <td>10</td>\n",
       "      <td>4</td>\n",
       "      <td>14</td>\n",
       "      <td>2030</td>\n",
       "      <td>203.0</td>\n",
       "      <td>0</td>\n",
       "      <td>0</td>\n",
       "    </tr>\n",
       "    <tr>\n",
       "      <th>2</th>\n",
       "      <td>100140</td>\n",
       "      <td>2017</td>\n",
       "      <td>1</td>\n",
       "      <td>6</td>\n",
       "      <td>0</td>\n",
       "      <td>6</td>\n",
       "      <td>1200</td>\n",
       "      <td>120.0</td>\n",
       "      <td>0</td>\n",
       "      <td>0</td>\n",
       "    </tr>\n",
       "    <tr>\n",
       "      <th>3</th>\n",
       "      <td>100214</td>\n",
       "      <td>2017</td>\n",
       "      <td>1</td>\n",
       "      <td>0</td>\n",
       "      <td>0</td>\n",
       "      <td>0</td>\n",
       "      <td>0</td>\n",
       "      <td>0.0</td>\n",
       "      <td>0</td>\n",
       "      <td>0</td>\n",
       "    </tr>\n",
       "    <tr>\n",
       "      <th>4</th>\n",
       "      <td>100272</td>\n",
       "      <td>2017</td>\n",
       "      <td>1</td>\n",
       "      <td>0</td>\n",
       "      <td>0</td>\n",
       "      <td>0</td>\n",
       "      <td>0</td>\n",
       "      <td>0.0</td>\n",
       "      <td>0</td>\n",
       "      <td>0</td>\n",
       "    </tr>\n",
       "    <tr>\n",
       "      <th>...</th>\n",
       "      <td>...</td>\n",
       "      <td>...</td>\n",
       "      <td>...</td>\n",
       "      <td>...</td>\n",
       "      <td>...</td>\n",
       "      <td>...</td>\n",
       "      <td>...</td>\n",
       "      <td>...</td>\n",
       "      <td>...</td>\n",
       "      <td>...</td>\n",
       "    </tr>\n",
       "    <tr>\n",
       "      <th>405619</th>\n",
       "      <td>999902</td>\n",
       "      <td>2018</td>\n",
       "      <td>12</td>\n",
       "      <td>0</td>\n",
       "      <td>0</td>\n",
       "      <td>0</td>\n",
       "      <td>0</td>\n",
       "      <td>0.0</td>\n",
       "      <td>0</td>\n",
       "      <td>0</td>\n",
       "    </tr>\n",
       "    <tr>\n",
       "      <th>405620</th>\n",
       "      <td>999911</td>\n",
       "      <td>2018</td>\n",
       "      <td>12</td>\n",
       "      <td>0</td>\n",
       "      <td>0</td>\n",
       "      <td>0</td>\n",
       "      <td>0</td>\n",
       "      <td>0.0</td>\n",
       "      <td>0</td>\n",
       "      <td>0</td>\n",
       "    </tr>\n",
       "    <tr>\n",
       "      <th>405621</th>\n",
       "      <td>999940</td>\n",
       "      <td>2018</td>\n",
       "      <td>12</td>\n",
       "      <td>3</td>\n",
       "      <td>0</td>\n",
       "      <td>3</td>\n",
       "      <td>1233</td>\n",
       "      <td>123.0</td>\n",
       "      <td>0</td>\n",
       "      <td>0</td>\n",
       "    </tr>\n",
       "    <tr>\n",
       "      <th>405622</th>\n",
       "      <td>999982</td>\n",
       "      <td>2018</td>\n",
       "      <td>12</td>\n",
       "      <td>0</td>\n",
       "      <td>0</td>\n",
       "      <td>0</td>\n",
       "      <td>0</td>\n",
       "      <td>0.0</td>\n",
       "      <td>0</td>\n",
       "      <td>0</td>\n",
       "    </tr>\n",
       "    <tr>\n",
       "      <th>405623</th>\n",
       "      <td>999986</td>\n",
       "      <td>2018</td>\n",
       "      <td>12</td>\n",
       "      <td>0</td>\n",
       "      <td>0</td>\n",
       "      <td>0</td>\n",
       "      <td>0</td>\n",
       "      <td>0.0</td>\n",
       "      <td>0</td>\n",
       "      <td>0</td>\n",
       "    </tr>\n",
       "  </tbody>\n",
       "</table>\n",
       "<p>405624 rows × 10 columns</p>\n",
       "</div>"
      ],
      "text/plain": [
       "        Loyalty Number  Year  Month  Flights Booked  Flights with Companions  \\\n",
       "0               100018  2017      1               3                        0   \n",
       "1               100102  2017      1              10                        4   \n",
       "2               100140  2017      1               6                        0   \n",
       "3               100214  2017      1               0                        0   \n",
       "4               100272  2017      1               0                        0   \n",
       "...                ...   ...    ...             ...                      ...   \n",
       "405619          999902  2018     12               0                        0   \n",
       "405620          999911  2018     12               0                        0   \n",
       "405621          999940  2018     12               3                        0   \n",
       "405622          999982  2018     12               0                        0   \n",
       "405623          999986  2018     12               0                        0   \n",
       "\n",
       "        Total Flights  Distance  Points Accumulated  Points Redeemed  \\\n",
       "0                   3      1521               152.0                0   \n",
       "1                  14      2030               203.0                0   \n",
       "2                   6      1200               120.0                0   \n",
       "3                   0         0                 0.0                0   \n",
       "4                   0         0                 0.0                0   \n",
       "...               ...       ...                 ...              ...   \n",
       "405619              0         0                 0.0                0   \n",
       "405620              0         0                 0.0                0   \n",
       "405621              3      1233               123.0                0   \n",
       "405622              0         0                 0.0                0   \n",
       "405623              0         0                 0.0                0   \n",
       "\n",
       "        Dollar Cost Points Redeemed  \n",
       "0                                 0  \n",
       "1                                 0  \n",
       "2                                 0  \n",
       "3                                 0  \n",
       "4                                 0  \n",
       "...                             ...  \n",
       "405619                            0  \n",
       "405620                            0  \n",
       "405621                            0  \n",
       "405622                            0  \n",
       "405623                            0  \n",
       "\n",
       "[405624 rows x 10 columns]"
      ]
     },
     "execution_count": 339,
     "metadata": {},
     "output_type": "execute_result"
    }
   ],
   "source": [
    "# Cargar los datos desde archivos CSV sobre vuelos de clientes.\n",
    "df_flight_data = pd.read_csv(\"Customer Flight Activity.csv\")\n",
    "df_flight_data"
   ]
  },
  {
   "cell_type": "code",
   "execution_count": 340,
   "metadata": {},
   "outputs": [
    {
     "data": {
      "text/html": [
       "<div>\n",
       "<style scoped>\n",
       "    .dataframe tbody tr th:only-of-type {\n",
       "        vertical-align: middle;\n",
       "    }\n",
       "\n",
       "    .dataframe tbody tr th {\n",
       "        vertical-align: top;\n",
       "    }\n",
       "\n",
       "    .dataframe thead th {\n",
       "        text-align: right;\n",
       "    }\n",
       "</style>\n",
       "<table border=\"1\" class=\"dataframe\">\n",
       "  <thead>\n",
       "    <tr style=\"text-align: right;\">\n",
       "      <th></th>\n",
       "      <th>Loyalty Number</th>\n",
       "      <th>Country</th>\n",
       "      <th>Province</th>\n",
       "      <th>City</th>\n",
       "      <th>Postal Code</th>\n",
       "      <th>Gender</th>\n",
       "      <th>Education</th>\n",
       "      <th>Salary</th>\n",
       "      <th>Marital Status</th>\n",
       "      <th>Loyalty Card</th>\n",
       "      <th>CLV</th>\n",
       "      <th>Enrollment Type</th>\n",
       "      <th>Enrollment Year</th>\n",
       "      <th>Enrollment Month</th>\n",
       "      <th>Cancellation Year</th>\n",
       "      <th>Cancellation Month</th>\n",
       "    </tr>\n",
       "  </thead>\n",
       "  <tbody>\n",
       "    <tr>\n",
       "      <th>0</th>\n",
       "      <td>480934</td>\n",
       "      <td>Canada</td>\n",
       "      <td>Ontario</td>\n",
       "      <td>Toronto</td>\n",
       "      <td>M2Z 4K1</td>\n",
       "      <td>Female</td>\n",
       "      <td>Bachelor</td>\n",
       "      <td>83236.0</td>\n",
       "      <td>Married</td>\n",
       "      <td>Star</td>\n",
       "      <td>3839.14</td>\n",
       "      <td>Standard</td>\n",
       "      <td>2016</td>\n",
       "      <td>2</td>\n",
       "      <td>NaN</td>\n",
       "      <td>NaN</td>\n",
       "    </tr>\n",
       "    <tr>\n",
       "      <th>1</th>\n",
       "      <td>549612</td>\n",
       "      <td>Canada</td>\n",
       "      <td>Alberta</td>\n",
       "      <td>Edmonton</td>\n",
       "      <td>T3G 6Y6</td>\n",
       "      <td>Male</td>\n",
       "      <td>College</td>\n",
       "      <td>NaN</td>\n",
       "      <td>Divorced</td>\n",
       "      <td>Star</td>\n",
       "      <td>3839.61</td>\n",
       "      <td>Standard</td>\n",
       "      <td>2016</td>\n",
       "      <td>3</td>\n",
       "      <td>NaN</td>\n",
       "      <td>NaN</td>\n",
       "    </tr>\n",
       "    <tr>\n",
       "      <th>2</th>\n",
       "      <td>429460</td>\n",
       "      <td>Canada</td>\n",
       "      <td>British Columbia</td>\n",
       "      <td>Vancouver</td>\n",
       "      <td>V6E 3D9</td>\n",
       "      <td>Male</td>\n",
       "      <td>College</td>\n",
       "      <td>NaN</td>\n",
       "      <td>Single</td>\n",
       "      <td>Star</td>\n",
       "      <td>3839.75</td>\n",
       "      <td>Standard</td>\n",
       "      <td>2014</td>\n",
       "      <td>7</td>\n",
       "      <td>2018.0</td>\n",
       "      <td>1.0</td>\n",
       "    </tr>\n",
       "    <tr>\n",
       "      <th>3</th>\n",
       "      <td>608370</td>\n",
       "      <td>Canada</td>\n",
       "      <td>Ontario</td>\n",
       "      <td>Toronto</td>\n",
       "      <td>P1W 1K4</td>\n",
       "      <td>Male</td>\n",
       "      <td>College</td>\n",
       "      <td>NaN</td>\n",
       "      <td>Single</td>\n",
       "      <td>Star</td>\n",
       "      <td>3839.75</td>\n",
       "      <td>Standard</td>\n",
       "      <td>2013</td>\n",
       "      <td>2</td>\n",
       "      <td>NaN</td>\n",
       "      <td>NaN</td>\n",
       "    </tr>\n",
       "    <tr>\n",
       "      <th>4</th>\n",
       "      <td>530508</td>\n",
       "      <td>Canada</td>\n",
       "      <td>Quebec</td>\n",
       "      <td>Hull</td>\n",
       "      <td>J8Y 3Z5</td>\n",
       "      <td>Male</td>\n",
       "      <td>Bachelor</td>\n",
       "      <td>103495.0</td>\n",
       "      <td>Married</td>\n",
       "      <td>Star</td>\n",
       "      <td>3842.79</td>\n",
       "      <td>Standard</td>\n",
       "      <td>2014</td>\n",
       "      <td>10</td>\n",
       "      <td>NaN</td>\n",
       "      <td>NaN</td>\n",
       "    </tr>\n",
       "    <tr>\n",
       "      <th>...</th>\n",
       "      <td>...</td>\n",
       "      <td>...</td>\n",
       "      <td>...</td>\n",
       "      <td>...</td>\n",
       "      <td>...</td>\n",
       "      <td>...</td>\n",
       "      <td>...</td>\n",
       "      <td>...</td>\n",
       "      <td>...</td>\n",
       "      <td>...</td>\n",
       "      <td>...</td>\n",
       "      <td>...</td>\n",
       "      <td>...</td>\n",
       "      <td>...</td>\n",
       "      <td>...</td>\n",
       "      <td>...</td>\n",
       "    </tr>\n",
       "    <tr>\n",
       "      <th>16732</th>\n",
       "      <td>823768</td>\n",
       "      <td>Canada</td>\n",
       "      <td>British Columbia</td>\n",
       "      <td>Vancouver</td>\n",
       "      <td>V6E 3Z3</td>\n",
       "      <td>Female</td>\n",
       "      <td>College</td>\n",
       "      <td>NaN</td>\n",
       "      <td>Married</td>\n",
       "      <td>Star</td>\n",
       "      <td>61850.19</td>\n",
       "      <td>Standard</td>\n",
       "      <td>2012</td>\n",
       "      <td>12</td>\n",
       "      <td>NaN</td>\n",
       "      <td>NaN</td>\n",
       "    </tr>\n",
       "    <tr>\n",
       "      <th>16733</th>\n",
       "      <td>680886</td>\n",
       "      <td>Canada</td>\n",
       "      <td>Saskatchewan</td>\n",
       "      <td>Regina</td>\n",
       "      <td>S1J 3C5</td>\n",
       "      <td>Female</td>\n",
       "      <td>Bachelor</td>\n",
       "      <td>89210.0</td>\n",
       "      <td>Married</td>\n",
       "      <td>Star</td>\n",
       "      <td>67907.27</td>\n",
       "      <td>Standard</td>\n",
       "      <td>2014</td>\n",
       "      <td>9</td>\n",
       "      <td>NaN</td>\n",
       "      <td>NaN</td>\n",
       "    </tr>\n",
       "    <tr>\n",
       "      <th>16734</th>\n",
       "      <td>776187</td>\n",
       "      <td>Canada</td>\n",
       "      <td>British Columbia</td>\n",
       "      <td>Vancouver</td>\n",
       "      <td>V5R 1W3</td>\n",
       "      <td>Male</td>\n",
       "      <td>College</td>\n",
       "      <td>NaN</td>\n",
       "      <td>Single</td>\n",
       "      <td>Star</td>\n",
       "      <td>74228.52</td>\n",
       "      <td>Standard</td>\n",
       "      <td>2014</td>\n",
       "      <td>3</td>\n",
       "      <td>NaN</td>\n",
       "      <td>NaN</td>\n",
       "    </tr>\n",
       "    <tr>\n",
       "      <th>16735</th>\n",
       "      <td>906428</td>\n",
       "      <td>Canada</td>\n",
       "      <td>Yukon</td>\n",
       "      <td>Whitehorse</td>\n",
       "      <td>Y2K 6R0</td>\n",
       "      <td>Male</td>\n",
       "      <td>Bachelor</td>\n",
       "      <td>-57297.0</td>\n",
       "      <td>Married</td>\n",
       "      <td>Star</td>\n",
       "      <td>10018.66</td>\n",
       "      <td>2018 Promotion</td>\n",
       "      <td>2018</td>\n",
       "      <td>4</td>\n",
       "      <td>NaN</td>\n",
       "      <td>NaN</td>\n",
       "    </tr>\n",
       "    <tr>\n",
       "      <th>16736</th>\n",
       "      <td>652627</td>\n",
       "      <td>Canada</td>\n",
       "      <td>Manitoba</td>\n",
       "      <td>Winnipeg</td>\n",
       "      <td>R2C 0M5</td>\n",
       "      <td>Female</td>\n",
       "      <td>Bachelor</td>\n",
       "      <td>75049.0</td>\n",
       "      <td>Married</td>\n",
       "      <td>Star</td>\n",
       "      <td>83325.38</td>\n",
       "      <td>Standard</td>\n",
       "      <td>2015</td>\n",
       "      <td>12</td>\n",
       "      <td>2016.0</td>\n",
       "      <td>8.0</td>\n",
       "    </tr>\n",
       "  </tbody>\n",
       "</table>\n",
       "<p>16737 rows × 16 columns</p>\n",
       "</div>"
      ],
      "text/plain": [
       "       Loyalty Number Country          Province        City Postal Code  \\\n",
       "0              480934  Canada           Ontario     Toronto     M2Z 4K1   \n",
       "1              549612  Canada           Alberta    Edmonton     T3G 6Y6   \n",
       "2              429460  Canada  British Columbia   Vancouver     V6E 3D9   \n",
       "3              608370  Canada           Ontario     Toronto     P1W 1K4   \n",
       "4              530508  Canada            Quebec        Hull     J8Y 3Z5   \n",
       "...               ...     ...               ...         ...         ...   \n",
       "16732          823768  Canada  British Columbia   Vancouver     V6E 3Z3   \n",
       "16733          680886  Canada      Saskatchewan      Regina     S1J 3C5   \n",
       "16734          776187  Canada  British Columbia   Vancouver     V5R 1W3   \n",
       "16735          906428  Canada             Yukon  Whitehorse     Y2K 6R0   \n",
       "16736          652627  Canada          Manitoba    Winnipeg     R2C 0M5   \n",
       "\n",
       "       Gender Education    Salary Marital Status Loyalty Card       CLV  \\\n",
       "0      Female  Bachelor   83236.0        Married         Star   3839.14   \n",
       "1        Male   College       NaN       Divorced         Star   3839.61   \n",
       "2        Male   College       NaN         Single         Star   3839.75   \n",
       "3        Male   College       NaN         Single         Star   3839.75   \n",
       "4        Male  Bachelor  103495.0        Married         Star   3842.79   \n",
       "...       ...       ...       ...            ...          ...       ...   \n",
       "16732  Female   College       NaN        Married         Star  61850.19   \n",
       "16733  Female  Bachelor   89210.0        Married         Star  67907.27   \n",
       "16734    Male   College       NaN         Single         Star  74228.52   \n",
       "16735    Male  Bachelor  -57297.0        Married         Star  10018.66   \n",
       "16736  Female  Bachelor   75049.0        Married         Star  83325.38   \n",
       "\n",
       "      Enrollment Type  Enrollment Year  Enrollment Month  Cancellation Year  \\\n",
       "0            Standard             2016                 2                NaN   \n",
       "1            Standard             2016                 3                NaN   \n",
       "2            Standard             2014                 7             2018.0   \n",
       "3            Standard             2013                 2                NaN   \n",
       "4            Standard             2014                10                NaN   \n",
       "...               ...              ...               ...                ...   \n",
       "16732        Standard             2012                12                NaN   \n",
       "16733        Standard             2014                 9                NaN   \n",
       "16734        Standard             2014                 3                NaN   \n",
       "16735  2018 Promotion             2018                 4                NaN   \n",
       "16736        Standard             2015                12             2016.0   \n",
       "\n",
       "       Cancellation Month  \n",
       "0                     NaN  \n",
       "1                     NaN  \n",
       "2                     1.0  \n",
       "3                     NaN  \n",
       "4                     NaN  \n",
       "...                   ...  \n",
       "16732                 NaN  \n",
       "16733                 NaN  \n",
       "16734                 NaN  \n",
       "16735                 NaN  \n",
       "16736                 8.0  \n",
       "\n",
       "[16737 rows x 16 columns]"
      ]
     },
     "execution_count": 340,
     "metadata": {},
     "output_type": "execute_result"
    }
   ],
   "source": [
    "# Cargar los datos desde archivos CSV sobre historial de lealtad.\n",
    "df_loyalty_data = pd.read_csv(\"Customer Loyalty History.csv\")\n",
    "df_loyalty_data"
   ]
  },
  {
   "cell_type": "markdown",
   "metadata": {},
   "source": [
    "## **FASE 1: Exploración y Limpieza.**\n",
    "### Exploración Inicial:\n",
    "- Realiza una exploración inicial de los datos para identificar posibles problemas, como valores nulos, atípicos o datos faltantes en las columnas relevantes.\n",
    "- Utiliza funciones de Pandas para obtener información sobre la estructura de los datos, la presencia de valores nulos y estadísticas básicas de las columnas involucradas.\n",
    "- Une los dos conjuntos de datos de la forma más eficiente.\n",
    "\n",
    "### Limpieza de Datos:\n",
    "- Elimina o trata los valores nulos, si los hay, en las columnas clave para asegurar que los datos\n",
    "estén completos.\n",
    "- Verifica la consistencia y corrección de los datos para asegurarte de que los datos se\n",
    "presenten de forma coherente.\n",
    "- Realiza cualquier ajuste o conversión necesaria en las columnas (por ejemplo, cambiar tipos de\n",
    "datos) para garantizar la adecuación de los datos para el análisis estadístico."
   ]
  },
  {
   "cell_type": "code",
   "execution_count": 341,
   "metadata": {},
   "outputs": [
    {
     "name": "stdout",
     "output_type": "stream",
     "text": [
      "<class 'pandas.core.frame.DataFrame'>\n",
      "RangeIndex: 405624 entries, 0 to 405623\n",
      "Data columns (total 10 columns):\n",
      " #   Column                       Non-Null Count   Dtype  \n",
      "---  ------                       --------------   -----  \n",
      " 0   Loyalty Number               405624 non-null  int64  \n",
      " 1   Year                         405624 non-null  int64  \n",
      " 2   Month                        405624 non-null  int64  \n",
      " 3   Flights Booked               405624 non-null  int64  \n",
      " 4   Flights with Companions      405624 non-null  int64  \n",
      " 5   Total Flights                405624 non-null  int64  \n",
      " 6   Distance                     405624 non-null  int64  \n",
      " 7   Points Accumulated           405624 non-null  float64\n",
      " 8   Points Redeemed              405624 non-null  int64  \n",
      " 9   Dollar Cost Points Redeemed  405624 non-null  int64  \n",
      "dtypes: float64(1), int64(9)\n",
      "memory usage: 30.9 MB\n",
      "None\n"
     ]
    }
   ],
   "source": [
    "print(df_flight_data.info())  # Información general sobre las columnas y tipos de datos del DataFrame de vuelos."
   ]
  },
  {
   "cell_type": "code",
   "execution_count": 342,
   "metadata": {},
   "outputs": [
    {
     "data": {
      "text/plain": [
       "np.int64(1864)"
      ]
     },
     "execution_count": 342,
     "metadata": {},
     "output_type": "execute_result"
    }
   ],
   "source": [
    "df_flight_data.duplicated().sum()  # Verificar si existen filas duplicadas en el DataFrame de vuelos."
   ]
  },
  {
   "cell_type": "code",
   "execution_count": 343,
   "metadata": {},
   "outputs": [],
   "source": [
    "df_flight_data.drop_duplicates(inplace=True) # Eliminar filas duplicadas del DataFrame de vuelos."
   ]
  },
  {
   "cell_type": "code",
   "execution_count": 344,
   "metadata": {},
   "outputs": [
    {
     "data": {
      "text/plain": [
       "np.int64(0)"
      ]
     },
     "execution_count": 344,
     "metadata": {},
     "output_type": "execute_result"
    }
   ],
   "source": [
    "df_flight_data.duplicated().sum() # Verificar si existen filas duplicadas en el DataFrame de vuelos tras eliminarlos."
   ]
  },
  {
   "cell_type": "code",
   "execution_count": 345,
   "metadata": {},
   "outputs": [
    {
     "data": {
      "text/plain": [
       "Loyalty Number                 0\n",
       "Year                           0\n",
       "Month                          0\n",
       "Flights Booked                 0\n",
       "Flights with Companions        0\n",
       "Total Flights                  0\n",
       "Distance                       0\n",
       "Points Accumulated             0\n",
       "Points Redeemed                0\n",
       "Dollar Cost Points Redeemed    0\n",
       "dtype: int64"
      ]
     },
     "execution_count": 345,
     "metadata": {},
     "output_type": "execute_result"
    }
   ],
   "source": [
    "df_flight_data.isnull().sum() # Verificar si existen valores nulos en el DataFrame de vuelos."
   ]
  },
  {
   "cell_type": "code",
   "execution_count": 346,
   "metadata": {},
   "outputs": [
    {
     "data": {
      "text/html": [
       "<div>\n",
       "<style scoped>\n",
       "    .dataframe tbody tr th:only-of-type {\n",
       "        vertical-align: middle;\n",
       "    }\n",
       "\n",
       "    .dataframe tbody tr th {\n",
       "        vertical-align: top;\n",
       "    }\n",
       "\n",
       "    .dataframe thead th {\n",
       "        text-align: right;\n",
       "    }\n",
       "</style>\n",
       "<table border=\"1\" class=\"dataframe\">\n",
       "  <thead>\n",
       "    <tr style=\"text-align: right;\">\n",
       "      <th></th>\n",
       "      <th>count</th>\n",
       "      <th>mean</th>\n",
       "      <th>std</th>\n",
       "      <th>min</th>\n",
       "      <th>25%</th>\n",
       "      <th>50%</th>\n",
       "      <th>75%</th>\n",
       "      <th>max</th>\n",
       "    </tr>\n",
       "  </thead>\n",
       "  <tbody>\n",
       "    <tr>\n",
       "      <th>Loyalty Number</th>\n",
       "      <td>403760.0</td>\n",
       "      <td>549875.383713</td>\n",
       "      <td>258961.514684</td>\n",
       "      <td>100018.0</td>\n",
       "      <td>326699.0</td>\n",
       "      <td>550598.0</td>\n",
       "      <td>772152.0</td>\n",
       "      <td>999986.0</td>\n",
       "    </tr>\n",
       "    <tr>\n",
       "      <th>Year</th>\n",
       "      <td>403760.0</td>\n",
       "      <td>2017.500352</td>\n",
       "      <td>0.500000</td>\n",
       "      <td>2017.0</td>\n",
       "      <td>2017.0</td>\n",
       "      <td>2018.0</td>\n",
       "      <td>2018.0</td>\n",
       "      <td>2018.0</td>\n",
       "    </tr>\n",
       "    <tr>\n",
       "      <th>Month</th>\n",
       "      <td>403760.0</td>\n",
       "      <td>6.501335</td>\n",
       "      <td>3.451982</td>\n",
       "      <td>1.0</td>\n",
       "      <td>4.0</td>\n",
       "      <td>7.0</td>\n",
       "      <td>10.0</td>\n",
       "      <td>12.0</td>\n",
       "    </tr>\n",
       "    <tr>\n",
       "      <th>Flights Booked</th>\n",
       "      <td>403760.0</td>\n",
       "      <td>4.134050</td>\n",
       "      <td>5.230064</td>\n",
       "      <td>0.0</td>\n",
       "      <td>0.0</td>\n",
       "      <td>1.0</td>\n",
       "      <td>8.0</td>\n",
       "      <td>21.0</td>\n",
       "    </tr>\n",
       "    <tr>\n",
       "      <th>Flights with Companions</th>\n",
       "      <td>403760.0</td>\n",
       "      <td>1.036569</td>\n",
       "      <td>2.080472</td>\n",
       "      <td>0.0</td>\n",
       "      <td>0.0</td>\n",
       "      <td>0.0</td>\n",
       "      <td>1.0</td>\n",
       "      <td>11.0</td>\n",
       "    </tr>\n",
       "    <tr>\n",
       "      <th>Total Flights</th>\n",
       "      <td>403760.0</td>\n",
       "      <td>5.170619</td>\n",
       "      <td>6.526858</td>\n",
       "      <td>0.0</td>\n",
       "      <td>0.0</td>\n",
       "      <td>1.0</td>\n",
       "      <td>10.0</td>\n",
       "      <td>32.0</td>\n",
       "    </tr>\n",
       "    <tr>\n",
       "      <th>Distance</th>\n",
       "      <td>403760.0</td>\n",
       "      <td>1214.460979</td>\n",
       "      <td>1434.098521</td>\n",
       "      <td>0.0</td>\n",
       "      <td>0.0</td>\n",
       "      <td>525.0</td>\n",
       "      <td>2342.0</td>\n",
       "      <td>6293.0</td>\n",
       "    </tr>\n",
       "    <tr>\n",
       "      <th>Points Accumulated</th>\n",
       "      <td>403760.0</td>\n",
       "      <td>124.263761</td>\n",
       "      <td>146.696179</td>\n",
       "      <td>0.0</td>\n",
       "      <td>0.0</td>\n",
       "      <td>53.0</td>\n",
       "      <td>240.0</td>\n",
       "      <td>676.5</td>\n",
       "    </tr>\n",
       "    <tr>\n",
       "      <th>Points Redeemed</th>\n",
       "      <td>403760.0</td>\n",
       "      <td>30.838587</td>\n",
       "      <td>125.758002</td>\n",
       "      <td>0.0</td>\n",
       "      <td>0.0</td>\n",
       "      <td>0.0</td>\n",
       "      <td>0.0</td>\n",
       "      <td>876.0</td>\n",
       "    </tr>\n",
       "    <tr>\n",
       "      <th>Dollar Cost Points Redeemed</th>\n",
       "      <td>403760.0</td>\n",
       "      <td>2.495973</td>\n",
       "      <td>10.172033</td>\n",
       "      <td>0.0</td>\n",
       "      <td>0.0</td>\n",
       "      <td>0.0</td>\n",
       "      <td>0.0</td>\n",
       "      <td>71.0</td>\n",
       "    </tr>\n",
       "  </tbody>\n",
       "</table>\n",
       "</div>"
      ],
      "text/plain": [
       "                                count           mean            std       min  \\\n",
       "Loyalty Number               403760.0  549875.383713  258961.514684  100018.0   \n",
       "Year                         403760.0    2017.500352       0.500000    2017.0   \n",
       "Month                        403760.0       6.501335       3.451982       1.0   \n",
       "Flights Booked               403760.0       4.134050       5.230064       0.0   \n",
       "Flights with Companions      403760.0       1.036569       2.080472       0.0   \n",
       "Total Flights                403760.0       5.170619       6.526858       0.0   \n",
       "Distance                     403760.0    1214.460979    1434.098521       0.0   \n",
       "Points Accumulated           403760.0     124.263761     146.696179       0.0   \n",
       "Points Redeemed              403760.0      30.838587     125.758002       0.0   \n",
       "Dollar Cost Points Redeemed  403760.0       2.495973      10.172033       0.0   \n",
       "\n",
       "                                  25%       50%       75%       max  \n",
       "Loyalty Number               326699.0  550598.0  772152.0  999986.0  \n",
       "Year                           2017.0    2018.0    2018.0    2018.0  \n",
       "Month                             4.0       7.0      10.0      12.0  \n",
       "Flights Booked                    0.0       1.0       8.0      21.0  \n",
       "Flights with Companions           0.0       0.0       1.0      11.0  \n",
       "Total Flights                     0.0       1.0      10.0      32.0  \n",
       "Distance                          0.0     525.0    2342.0    6293.0  \n",
       "Points Accumulated                0.0      53.0     240.0     676.5  \n",
       "Points Redeemed                   0.0       0.0       0.0     876.0  \n",
       "Dollar Cost Points Redeemed       0.0       0.0       0.0      71.0  "
      ]
     },
     "execution_count": 346,
     "metadata": {},
     "output_type": "execute_result"
    }
   ],
   "source": [
    "df_flight_data.describe().T # Estadísticas descriptivas de las columnas numéricas del DataFrame de vuelos."
   ]
  },
  {
   "cell_type": "code",
   "execution_count": 347,
   "metadata": {},
   "outputs": [
    {
     "data": {
      "text/plain": [
       "array([ 1,  9,  2,  3, 11,  4,  5,  7,  6,  8, 10, 12])"
      ]
     },
     "execution_count": 347,
     "metadata": {},
     "output_type": "execute_result"
    }
   ],
   "source": [
    "df_flight_data['Month'].unique() # Verificar los valores únicos de la columna 'Month' para ver que no hay más valores de la cuenta o si hay alguno incorrecto."
   ]
  },
  {
   "cell_type": "code",
   "execution_count": 348,
   "metadata": {},
   "outputs": [
    {
     "name": "stdout",
     "output_type": "stream",
     "text": [
      "True\n"
     ]
    }
   ],
   "source": [
    "# Verificar si hay algún valor con decimales en la columna \"Points Accumulated\".\n",
    "tiene_decimales = df_flight_data['Points Accumulated'] != df_flight_data['Points Accumulated'].astype(int)\n",
    "\n",
    "# Comprobar si hay al menos un valor con decimales.\n",
    "print(tiene_decimales.any())  # Si devuelve \"True\" sí hay algún decimal y \"False\" si no hay decimales."
   ]
  },
  {
   "cell_type": "code",
   "execution_count": 349,
   "metadata": {},
   "outputs": [
    {
     "name": "stdout",
     "output_type": "stream",
     "text": [
      "<class 'pandas.core.frame.DataFrame'>\n",
      "RangeIndex: 16737 entries, 0 to 16736\n",
      "Data columns (total 16 columns):\n",
      " #   Column              Non-Null Count  Dtype  \n",
      "---  ------              --------------  -----  \n",
      " 0   Loyalty Number      16737 non-null  int64  \n",
      " 1   Country             16737 non-null  object \n",
      " 2   Province            16737 non-null  object \n",
      " 3   City                16737 non-null  object \n",
      " 4   Postal Code         16737 non-null  object \n",
      " 5   Gender              16737 non-null  object \n",
      " 6   Education           16737 non-null  object \n",
      " 7   Salary              12499 non-null  float64\n",
      " 8   Marital Status      16737 non-null  object \n",
      " 9   Loyalty Card        16737 non-null  object \n",
      " 10  CLV                 16737 non-null  float64\n",
      " 11  Enrollment Type     16737 non-null  object \n",
      " 12  Enrollment Year     16737 non-null  int64  \n",
      " 13  Enrollment Month    16737 non-null  int64  \n",
      " 14  Cancellation Year   2067 non-null   float64\n",
      " 15  Cancellation Month  2067 non-null   float64\n",
      "dtypes: float64(4), int64(3), object(9)\n",
      "memory usage: 2.0+ MB\n",
      "None\n"
     ]
    }
   ],
   "source": [
    "print(df_loyalty_data.info()) # Información general sobre las columnas y tipos de datos del DataFrame de lealtad."
   ]
  },
  {
   "cell_type": "code",
   "execution_count": 350,
   "metadata": {},
   "outputs": [
    {
     "data": {
      "text/plain": [
       "np.int64(0)"
      ]
     },
     "execution_count": 350,
     "metadata": {},
     "output_type": "execute_result"
    }
   ],
   "source": [
    "df_loyalty_data.duplicated().sum() # Verificar si existen filas duplicadas en el DataFrame de lealtad."
   ]
  },
  {
   "cell_type": "code",
   "execution_count": 351,
   "metadata": {},
   "outputs": [
    {
     "data": {
      "text/plain": [
       "Loyalty Number            0\n",
       "Country                   0\n",
       "Province                  0\n",
       "City                      0\n",
       "Postal Code               0\n",
       "Gender                    0\n",
       "Education                 0\n",
       "Salary                 4238\n",
       "Marital Status            0\n",
       "Loyalty Card              0\n",
       "CLV                       0\n",
       "Enrollment Type           0\n",
       "Enrollment Year           0\n",
       "Enrollment Month          0\n",
       "Cancellation Year     14670\n",
       "Cancellation Month    14670\n",
       "dtype: int64"
      ]
     },
     "execution_count": 351,
     "metadata": {},
     "output_type": "execute_result"
    }
   ],
   "source": [
    "df_loyalty_data.isnull().sum() # Verificar si existen valores nulos en el DataFrame de lealtad."
   ]
  },
  {
   "cell_type": "code",
   "execution_count": 352,
   "metadata": {},
   "outputs": [
    {
     "data": {
      "text/plain": [
       "Loyalty Number         0.000000\n",
       "Country                0.000000\n",
       "Province               0.000000\n",
       "City                   0.000000\n",
       "Postal Code            0.000000\n",
       "Gender                 0.000000\n",
       "Education              0.000000\n",
       "Salary                25.321145\n",
       "Marital Status         0.000000\n",
       "Loyalty Card           0.000000\n",
       "CLV                    0.000000\n",
       "Enrollment Type        0.000000\n",
       "Enrollment Year        0.000000\n",
       "Enrollment Month       0.000000\n",
       "Cancellation Year     87.650117\n",
       "Cancellation Month    87.650117\n",
       "dtype: float64"
      ]
     },
     "execution_count": 352,
     "metadata": {},
     "output_type": "execute_result"
    }
   ],
   "source": [
    "df_loyalty_data.isnull().sum()/df_loyalty_data.shape[0]*100 # Porcentaje de valores nulos en el DataFrame de lealtad, así se puede más exacto si es mucho o poco."
   ]
  },
  {
   "cell_type": "code",
   "execution_count": 353,
   "metadata": {},
   "outputs": [],
   "source": [
    "# Eliminar columnas innecesarias del DataFrame de vuelos. Al tener un alto número de valores negativos y no afectarme en el análisis final, se eliminan.\n",
    "df_loyalty_data.drop(columns=['Cancellation Year', 'Cancellation Month'], axis=1, inplace=True)"
   ]
  },
  {
   "cell_type": "code",
   "execution_count": 354,
   "metadata": {},
   "outputs": [
    {
     "data": {
      "text/html": [
       "<div>\n",
       "<style scoped>\n",
       "    .dataframe tbody tr th:only-of-type {\n",
       "        vertical-align: middle;\n",
       "    }\n",
       "\n",
       "    .dataframe tbody tr th {\n",
       "        vertical-align: top;\n",
       "    }\n",
       "\n",
       "    .dataframe thead th {\n",
       "        text-align: right;\n",
       "    }\n",
       "</style>\n",
       "<table border=\"1\" class=\"dataframe\">\n",
       "  <thead>\n",
       "    <tr style=\"text-align: right;\">\n",
       "      <th></th>\n",
       "      <th>count</th>\n",
       "      <th>mean</th>\n",
       "      <th>std</th>\n",
       "      <th>min</th>\n",
       "      <th>25%</th>\n",
       "      <th>50%</th>\n",
       "      <th>75%</th>\n",
       "      <th>max</th>\n",
       "    </tr>\n",
       "  </thead>\n",
       "  <tbody>\n",
       "    <tr>\n",
       "      <th>Loyalty Number</th>\n",
       "      <td>16737.0</td>\n",
       "      <td>549735.880445</td>\n",
       "      <td>258912.132453</td>\n",
       "      <td>100018.00</td>\n",
       "      <td>326603.00</td>\n",
       "      <td>550434.00</td>\n",
       "      <td>772019.00</td>\n",
       "      <td>999986.00</td>\n",
       "    </tr>\n",
       "    <tr>\n",
       "      <th>Salary</th>\n",
       "      <td>12499.0</td>\n",
       "      <td>79245.609409</td>\n",
       "      <td>35008.297285</td>\n",
       "      <td>-58486.00</td>\n",
       "      <td>59246.50</td>\n",
       "      <td>73455.00</td>\n",
       "      <td>88517.50</td>\n",
       "      <td>407228.00</td>\n",
       "    </tr>\n",
       "    <tr>\n",
       "      <th>CLV</th>\n",
       "      <td>16737.0</td>\n",
       "      <td>7988.896536</td>\n",
       "      <td>6860.982280</td>\n",
       "      <td>1898.01</td>\n",
       "      <td>3980.84</td>\n",
       "      <td>5780.18</td>\n",
       "      <td>8940.58</td>\n",
       "      <td>83325.38</td>\n",
       "    </tr>\n",
       "    <tr>\n",
       "      <th>Enrollment Year</th>\n",
       "      <td>16737.0</td>\n",
       "      <td>2015.253211</td>\n",
       "      <td>1.979111</td>\n",
       "      <td>2012.00</td>\n",
       "      <td>2014.00</td>\n",
       "      <td>2015.00</td>\n",
       "      <td>2017.00</td>\n",
       "      <td>2018.00</td>\n",
       "    </tr>\n",
       "    <tr>\n",
       "      <th>Enrollment Month</th>\n",
       "      <td>16737.0</td>\n",
       "      <td>6.669116</td>\n",
       "      <td>3.398958</td>\n",
       "      <td>1.00</td>\n",
       "      <td>4.00</td>\n",
       "      <td>7.00</td>\n",
       "      <td>10.00</td>\n",
       "      <td>12.00</td>\n",
       "    </tr>\n",
       "  </tbody>\n",
       "</table>\n",
       "</div>"
      ],
      "text/plain": [
       "                    count           mean            std        min        25%  \\\n",
       "Loyalty Number    16737.0  549735.880445  258912.132453  100018.00  326603.00   \n",
       "Salary            12499.0   79245.609409   35008.297285  -58486.00   59246.50   \n",
       "CLV               16737.0    7988.896536    6860.982280    1898.01    3980.84   \n",
       "Enrollment Year   16737.0    2015.253211       1.979111    2012.00    2014.00   \n",
       "Enrollment Month  16737.0       6.669116       3.398958       1.00       4.00   \n",
       "\n",
       "                        50%        75%        max  \n",
       "Loyalty Number    550434.00  772019.00  999986.00  \n",
       "Salary             73455.00   88517.50  407228.00  \n",
       "CLV                 5780.18    8940.58   83325.38  \n",
       "Enrollment Year     2015.00    2017.00    2018.00  \n",
       "Enrollment Month       7.00      10.00      12.00  "
      ]
     },
     "execution_count": 354,
     "metadata": {},
     "output_type": "execute_result"
    }
   ],
   "source": [
    "df_loyalty_data.describe().T # Estadísticas descriptivas de las columnas numéricas del DataFrame de lealtad."
   ]
  },
  {
   "cell_type": "code",
   "execution_count": 355,
   "metadata": {},
   "outputs": [
    {
     "data": {
      "text/plain": [
       "np.float64(9081.0)"
      ]
     },
     "execution_count": 355,
     "metadata": {},
     "output_type": "execute_result"
    }
   ],
   "source": [
    "df_loyalty_data['Salary']=df_loyalty_data['Salary'].abs() # Convertir los valores negativos de 'Salary' a positivos.\n",
    "df_loyalty_data['Salary'].min() # Verificar que no haya valores negativos en 'Salary'. El min muestra el valor mínimo de la columna y tras el cambio anterior tiene que ser un número positivo."
   ]
  },
  {
   "cell_type": "code",
   "execution_count": 356,
   "metadata": {},
   "outputs": [],
   "source": [
    "media_salary = df_loyalty_data['Salary'].mean() # Calcular la media de la columna 'Salary'.\n",
    "df_loyalty_data['Salary'] = df_loyalty_data['Salary'].fillna(media_salary) # Rellenar los valores nulos en 'Salary' con la media."
   ]
  },
  {
   "cell_type": "markdown",
   "metadata": {},
   "source": [
    "Salary - Se reemplaza por la mediana de los salarios:\n",
    "\n",
    "Porque \"Salary\" representa el ingreso anual estimado del cliente.\n",
    "Si hay valores nulos, no se sabe cuánto gana ese cliente.\n",
    "En vez de eliminar esos clientes o asignarles 0 (lo que podría alterar los datos), se les asigna la mediana de los salarios existentes.\n",
    "\n",
    "Mejor mediana que promedio porque:\n",
    "La mediana es menos sensible a valores extremos (por ejemplo, un cliente con un salario muy alto o muy bajo).\n",
    "Si usáramos el promedio, unos pocos salarios extremadamente altos o bajos podrían distorsionar el valor asignado.\n",
    "La mediana representa mejor el salario típico de los clientes."
   ]
  },
  {
   "cell_type": "code",
   "execution_count": 357,
   "metadata": {},
   "outputs": [
    {
     "data": {
      "text/plain": [
       "Loyalty Number      0\n",
       "Country             0\n",
       "Province            0\n",
       "City                0\n",
       "Postal Code         0\n",
       "Gender              0\n",
       "Education           0\n",
       "Salary              0\n",
       "Marital Status      0\n",
       "Loyalty Card        0\n",
       "CLV                 0\n",
       "Enrollment Type     0\n",
       "Enrollment Year     0\n",
       "Enrollment Month    0\n",
       "dtype: int64"
      ]
     },
     "execution_count": 357,
     "metadata": {},
     "output_type": "execute_result"
    }
   ],
   "source": [
    "df_loyalty_data.isnull().sum() # Verificar si existen valores nulos y las columnas existentes en el DataFrame de lealtad tras los cambios."
   ]
  },
  {
   "cell_type": "code",
   "execution_count": 358,
   "metadata": {},
   "outputs": [
    {
     "name": "stdout",
     "output_type": "stream",
     "text": [
      "True\n"
     ]
    }
   ],
   "source": [
    "# Verificar si hay algún valor con decimales en la columna \"Salary\".\n",
    "tiene_decimales = df_loyalty_data['Salary'] != df_loyalty_data['Salary'].astype(int)\n",
    "\n",
    "# Comprobar si hay al menos un valor con decimales.\n",
    "print(tiene_decimales.any())  # Si devuelve \"True\" sí hay algún decimal y \"False\" si no hay decimales."
   ]
  },
  {
   "cell_type": "code",
   "execution_count": 359,
   "metadata": {},
   "outputs": [
    {
     "name": "stdout",
     "output_type": "stream",
     "text": [
      "True\n"
     ]
    }
   ],
   "source": [
    "# Verificar si hay algún valor con decimales en la columna \"CLV\".\n",
    "tiene_decimales = df_loyalty_data['CLV'] != df_loyalty_data['CLV'].astype(int)\n",
    "\n",
    "# Comprobar si hay al menos un valor con decimales.\n",
    "print(tiene_decimales.any())  # Si devuelve \"True\" sí hay algún decimal y \"False\" si no hay decimales."
   ]
  },
  {
   "cell_type": "code",
   "execution_count": 360,
   "metadata": {},
   "outputs": [],
   "source": [
    "# Limpiar espacios en las columnas.\n",
    "for dataframe in [df_flight_data, df_loyalty_data]: # Itera sobre ambos DataFrames.\n",
    "    for columna in dataframe.columns:\n",
    "        if dataframe[columna].dtype == \"object\": # Verifica si la columna es de tipo objeto.\n",
    "            dataframe[columna] = dataframe[columna].str.title().str.strip() # Convierte el texto a formato título y elimina espacios al principio y al final."
   ]
  },
  {
   "cell_type": "code",
   "execution_count": 361,
   "metadata": {},
   "outputs": [
    {
     "data": {
      "text/plain": [
       "array(['Female', 'Male'], dtype=object)"
      ]
     },
     "execution_count": 361,
     "metadata": {},
     "output_type": "execute_result"
    }
   ],
   "source": [
    "df_loyalty_data['Gender'].unique() # Muestra los valores únicos de la columna \"Gender\"."
   ]
  },
  {
   "cell_type": "code",
   "execution_count": 362,
   "metadata": {},
   "outputs": [
    {
     "data": {
      "text/plain": [
       "array(['Bachelor', 'College', 'Master', 'High School Or Below', 'Doctor'],\n",
       "      dtype=object)"
      ]
     },
     "execution_count": 362,
     "metadata": {},
     "output_type": "execute_result"
    }
   ],
   "source": [
    "df_loyalty_data['Education'].unique() # Muestra los valores únicos de la columna \"Education\"."
   ]
  },
  {
   "cell_type": "code",
   "execution_count": 363,
   "metadata": {},
   "outputs": [
    {
     "data": {
      "text/plain": [
       "array(['Married', 'Divorced', 'Single'], dtype=object)"
      ]
     },
     "execution_count": 363,
     "metadata": {},
     "output_type": "execute_result"
    }
   ],
   "source": [
    "df_loyalty_data['Marital Status'].unique() # Muestra los valores únicos de la columna \"Marital Status\"."
   ]
  },
  {
   "cell_type": "code",
   "execution_count": 364,
   "metadata": {},
   "outputs": [
    {
     "data": {
      "text/plain": [
       "array(['Star', 'Aurora', 'Nova'], dtype=object)"
      ]
     },
     "execution_count": 364,
     "metadata": {},
     "output_type": "execute_result"
    }
   ],
   "source": [
    "df_loyalty_data['Loyalty Card'].unique() # Muestra los valores únicos de la columna \"Loyalty Card\"."
   ]
  },
  {
   "cell_type": "code",
   "execution_count": 365,
   "metadata": {},
   "outputs": [
    {
     "data": {
      "text/plain": [
       "array(['Standard', '2018 Promotion'], dtype=object)"
      ]
     },
     "execution_count": 365,
     "metadata": {},
     "output_type": "execute_result"
    }
   ],
   "source": [
    "df_loyalty_data['Enrollment Type'].unique() # Muestra los valores únicos de la columna \"Enrollment Type\"."
   ]
  },
  {
   "cell_type": "code",
   "execution_count": 366,
   "metadata": {},
   "outputs": [
    {
     "data": {
      "text/html": [
       "<div>\n",
       "<style scoped>\n",
       "    .dataframe tbody tr th:only-of-type {\n",
       "        vertical-align: middle;\n",
       "    }\n",
       "\n",
       "    .dataframe tbody tr th {\n",
       "        vertical-align: top;\n",
       "    }\n",
       "\n",
       "    .dataframe thead th {\n",
       "        text-align: right;\n",
       "    }\n",
       "</style>\n",
       "<table border=\"1\" class=\"dataframe\">\n",
       "  <thead>\n",
       "    <tr style=\"text-align: right;\">\n",
       "      <th></th>\n",
       "      <th>Loyalty Number</th>\n",
       "      <th>Year</th>\n",
       "      <th>Month</th>\n",
       "      <th>Flights Booked</th>\n",
       "      <th>Flights with Companions</th>\n",
       "      <th>Total Flights</th>\n",
       "      <th>Distance</th>\n",
       "      <th>Points Accumulated</th>\n",
       "      <th>Points Redeemed</th>\n",
       "      <th>Dollar Cost Points Redeemed</th>\n",
       "      <th>Country</th>\n",
       "      <th>Province</th>\n",
       "      <th>City</th>\n",
       "      <th>Postal Code</th>\n",
       "      <th>Gender</th>\n",
       "      <th>Education</th>\n",
       "      <th>Salary</th>\n",
       "      <th>Marital Status</th>\n",
       "      <th>Loyalty Card</th>\n",
       "      <th>CLV</th>\n",
       "      <th>Enrollment Type</th>\n",
       "      <th>Enrollment Year</th>\n",
       "      <th>Enrollment Month</th>\n",
       "    </tr>\n",
       "  </thead>\n",
       "  <tbody>\n",
       "    <tr>\n",
       "      <th>0</th>\n",
       "      <td>100018</td>\n",
       "      <td>2017</td>\n",
       "      <td>1</td>\n",
       "      <td>3</td>\n",
       "      <td>0</td>\n",
       "      <td>3</td>\n",
       "      <td>1521</td>\n",
       "      <td>152.0</td>\n",
       "      <td>0</td>\n",
       "      <td>0</td>\n",
       "      <td>Canada</td>\n",
       "      <td>Alberta</td>\n",
       "      <td>Edmonton</td>\n",
       "      <td>T9G 1W3</td>\n",
       "      <td>Female</td>\n",
       "      <td>Bachelor</td>\n",
       "      <td>92552.000000</td>\n",
       "      <td>Married</td>\n",
       "      <td>Aurora</td>\n",
       "      <td>7919.20</td>\n",
       "      <td>Standard</td>\n",
       "      <td>2016</td>\n",
       "      <td>8</td>\n",
       "    </tr>\n",
       "    <tr>\n",
       "      <th>1</th>\n",
       "      <td>100102</td>\n",
       "      <td>2017</td>\n",
       "      <td>1</td>\n",
       "      <td>10</td>\n",
       "      <td>4</td>\n",
       "      <td>14</td>\n",
       "      <td>2030</td>\n",
       "      <td>203.0</td>\n",
       "      <td>0</td>\n",
       "      <td>0</td>\n",
       "      <td>Canada</td>\n",
       "      <td>Ontario</td>\n",
       "      <td>Toronto</td>\n",
       "      <td>M1R 4K3</td>\n",
       "      <td>Male</td>\n",
       "      <td>College</td>\n",
       "      <td>79359.340907</td>\n",
       "      <td>Single</td>\n",
       "      <td>Nova</td>\n",
       "      <td>2887.74</td>\n",
       "      <td>Standard</td>\n",
       "      <td>2013</td>\n",
       "      <td>3</td>\n",
       "    </tr>\n",
       "    <tr>\n",
       "      <th>2</th>\n",
       "      <td>100140</td>\n",
       "      <td>2017</td>\n",
       "      <td>1</td>\n",
       "      <td>6</td>\n",
       "      <td>0</td>\n",
       "      <td>6</td>\n",
       "      <td>1200</td>\n",
       "      <td>120.0</td>\n",
       "      <td>0</td>\n",
       "      <td>0</td>\n",
       "      <td>Canada</td>\n",
       "      <td>British Columbia</td>\n",
       "      <td>Dawson Creek</td>\n",
       "      <td>U5I 4F1</td>\n",
       "      <td>Female</td>\n",
       "      <td>College</td>\n",
       "      <td>79359.340907</td>\n",
       "      <td>Divorced</td>\n",
       "      <td>Nova</td>\n",
       "      <td>2838.07</td>\n",
       "      <td>Standard</td>\n",
       "      <td>2016</td>\n",
       "      <td>7</td>\n",
       "    </tr>\n",
       "    <tr>\n",
       "      <th>3</th>\n",
       "      <td>100214</td>\n",
       "      <td>2017</td>\n",
       "      <td>1</td>\n",
       "      <td>0</td>\n",
       "      <td>0</td>\n",
       "      <td>0</td>\n",
       "      <td>0</td>\n",
       "      <td>0.0</td>\n",
       "      <td>0</td>\n",
       "      <td>0</td>\n",
       "      <td>Canada</td>\n",
       "      <td>British Columbia</td>\n",
       "      <td>Vancouver</td>\n",
       "      <td>V5R 1W3</td>\n",
       "      <td>Male</td>\n",
       "      <td>Bachelor</td>\n",
       "      <td>63253.000000</td>\n",
       "      <td>Married</td>\n",
       "      <td>Star</td>\n",
       "      <td>4170.57</td>\n",
       "      <td>Standard</td>\n",
       "      <td>2015</td>\n",
       "      <td>8</td>\n",
       "    </tr>\n",
       "    <tr>\n",
       "      <th>4</th>\n",
       "      <td>100272</td>\n",
       "      <td>2017</td>\n",
       "      <td>1</td>\n",
       "      <td>0</td>\n",
       "      <td>0</td>\n",
       "      <td>0</td>\n",
       "      <td>0</td>\n",
       "      <td>0.0</td>\n",
       "      <td>0</td>\n",
       "      <td>0</td>\n",
       "      <td>Canada</td>\n",
       "      <td>Ontario</td>\n",
       "      <td>Toronto</td>\n",
       "      <td>P1L 8X8</td>\n",
       "      <td>Female</td>\n",
       "      <td>Bachelor</td>\n",
       "      <td>91163.000000</td>\n",
       "      <td>Divorced</td>\n",
       "      <td>Star</td>\n",
       "      <td>6622.05</td>\n",
       "      <td>Standard</td>\n",
       "      <td>2014</td>\n",
       "      <td>1</td>\n",
       "    </tr>\n",
       "    <tr>\n",
       "      <th>...</th>\n",
       "      <td>...</td>\n",
       "      <td>...</td>\n",
       "      <td>...</td>\n",
       "      <td>...</td>\n",
       "      <td>...</td>\n",
       "      <td>...</td>\n",
       "      <td>...</td>\n",
       "      <td>...</td>\n",
       "      <td>...</td>\n",
       "      <td>...</td>\n",
       "      <td>...</td>\n",
       "      <td>...</td>\n",
       "      <td>...</td>\n",
       "      <td>...</td>\n",
       "      <td>...</td>\n",
       "      <td>...</td>\n",
       "      <td>...</td>\n",
       "      <td>...</td>\n",
       "      <td>...</td>\n",
       "      <td>...</td>\n",
       "      <td>...</td>\n",
       "      <td>...</td>\n",
       "      <td>...</td>\n",
       "    </tr>\n",
       "    <tr>\n",
       "      <th>403755</th>\n",
       "      <td>999902</td>\n",
       "      <td>2018</td>\n",
       "      <td>12</td>\n",
       "      <td>0</td>\n",
       "      <td>0</td>\n",
       "      <td>0</td>\n",
       "      <td>0</td>\n",
       "      <td>0.0</td>\n",
       "      <td>0</td>\n",
       "      <td>0</td>\n",
       "      <td>Canada</td>\n",
       "      <td>Ontario</td>\n",
       "      <td>Toronto</td>\n",
       "      <td>M1R 4K3</td>\n",
       "      <td>Male</td>\n",
       "      <td>College</td>\n",
       "      <td>79359.340907</td>\n",
       "      <td>Married</td>\n",
       "      <td>Aurora</td>\n",
       "      <td>7290.07</td>\n",
       "      <td>Standard</td>\n",
       "      <td>2014</td>\n",
       "      <td>5</td>\n",
       "    </tr>\n",
       "    <tr>\n",
       "      <th>403756</th>\n",
       "      <td>999911</td>\n",
       "      <td>2018</td>\n",
       "      <td>12</td>\n",
       "      <td>0</td>\n",
       "      <td>0</td>\n",
       "      <td>0</td>\n",
       "      <td>0</td>\n",
       "      <td>0.0</td>\n",
       "      <td>0</td>\n",
       "      <td>0</td>\n",
       "      <td>Canada</td>\n",
       "      <td>Newfoundland</td>\n",
       "      <td>St. John'S</td>\n",
       "      <td>A1C 6H9</td>\n",
       "      <td>Male</td>\n",
       "      <td>Doctor</td>\n",
       "      <td>217943.000000</td>\n",
       "      <td>Single</td>\n",
       "      <td>Nova</td>\n",
       "      <td>8564.77</td>\n",
       "      <td>Standard</td>\n",
       "      <td>2012</td>\n",
       "      <td>8</td>\n",
       "    </tr>\n",
       "    <tr>\n",
       "      <th>403757</th>\n",
       "      <td>999940</td>\n",
       "      <td>2018</td>\n",
       "      <td>12</td>\n",
       "      <td>3</td>\n",
       "      <td>0</td>\n",
       "      <td>3</td>\n",
       "      <td>1233</td>\n",
       "      <td>123.0</td>\n",
       "      <td>0</td>\n",
       "      <td>0</td>\n",
       "      <td>Canada</td>\n",
       "      <td>Quebec</td>\n",
       "      <td>Quebec City</td>\n",
       "      <td>G1B 3L5</td>\n",
       "      <td>Female</td>\n",
       "      <td>Bachelor</td>\n",
       "      <td>47670.000000</td>\n",
       "      <td>Married</td>\n",
       "      <td>Nova</td>\n",
       "      <td>20266.50</td>\n",
       "      <td>Standard</td>\n",
       "      <td>2017</td>\n",
       "      <td>7</td>\n",
       "    </tr>\n",
       "    <tr>\n",
       "      <th>403758</th>\n",
       "      <td>999982</td>\n",
       "      <td>2018</td>\n",
       "      <td>12</td>\n",
       "      <td>0</td>\n",
       "      <td>0</td>\n",
       "      <td>0</td>\n",
       "      <td>0</td>\n",
       "      <td>0.0</td>\n",
       "      <td>0</td>\n",
       "      <td>0</td>\n",
       "      <td>Canada</td>\n",
       "      <td>British Columbia</td>\n",
       "      <td>Victoria</td>\n",
       "      <td>V10 6T5</td>\n",
       "      <td>Male</td>\n",
       "      <td>College</td>\n",
       "      <td>79359.340907</td>\n",
       "      <td>Married</td>\n",
       "      <td>Star</td>\n",
       "      <td>2631.56</td>\n",
       "      <td>Standard</td>\n",
       "      <td>2018</td>\n",
       "      <td>7</td>\n",
       "    </tr>\n",
       "    <tr>\n",
       "      <th>403759</th>\n",
       "      <td>999986</td>\n",
       "      <td>2018</td>\n",
       "      <td>12</td>\n",
       "      <td>0</td>\n",
       "      <td>0</td>\n",
       "      <td>0</td>\n",
       "      <td>0</td>\n",
       "      <td>0.0</td>\n",
       "      <td>0</td>\n",
       "      <td>0</td>\n",
       "      <td>Canada</td>\n",
       "      <td>Ontario</td>\n",
       "      <td>Ottawa</td>\n",
       "      <td>K1F 2R2</td>\n",
       "      <td>Female</td>\n",
       "      <td>Bachelor</td>\n",
       "      <td>46594.000000</td>\n",
       "      <td>Married</td>\n",
       "      <td>Nova</td>\n",
       "      <td>8257.01</td>\n",
       "      <td>2018 Promotion</td>\n",
       "      <td>2018</td>\n",
       "      <td>2</td>\n",
       "    </tr>\n",
       "  </tbody>\n",
       "</table>\n",
       "<p>403760 rows × 23 columns</p>\n",
       "</div>"
      ],
      "text/plain": [
       "        Loyalty Number  Year  Month  Flights Booked  Flights with Companions  \\\n",
       "0               100018  2017      1               3                        0   \n",
       "1               100102  2017      1              10                        4   \n",
       "2               100140  2017      1               6                        0   \n",
       "3               100214  2017      1               0                        0   \n",
       "4               100272  2017      1               0                        0   \n",
       "...                ...   ...    ...             ...                      ...   \n",
       "403755          999902  2018     12               0                        0   \n",
       "403756          999911  2018     12               0                        0   \n",
       "403757          999940  2018     12               3                        0   \n",
       "403758          999982  2018     12               0                        0   \n",
       "403759          999986  2018     12               0                        0   \n",
       "\n",
       "        Total Flights  Distance  Points Accumulated  Points Redeemed  \\\n",
       "0                   3      1521               152.0                0   \n",
       "1                  14      2030               203.0                0   \n",
       "2                   6      1200               120.0                0   \n",
       "3                   0         0                 0.0                0   \n",
       "4                   0         0                 0.0                0   \n",
       "...               ...       ...                 ...              ...   \n",
       "403755              0         0                 0.0                0   \n",
       "403756              0         0                 0.0                0   \n",
       "403757              3      1233               123.0                0   \n",
       "403758              0         0                 0.0                0   \n",
       "403759              0         0                 0.0                0   \n",
       "\n",
       "        Dollar Cost Points Redeemed Country          Province          City  \\\n",
       "0                                 0  Canada           Alberta      Edmonton   \n",
       "1                                 0  Canada           Ontario       Toronto   \n",
       "2                                 0  Canada  British Columbia  Dawson Creek   \n",
       "3                                 0  Canada  British Columbia     Vancouver   \n",
       "4                                 0  Canada           Ontario       Toronto   \n",
       "...                             ...     ...               ...           ...   \n",
       "403755                            0  Canada           Ontario       Toronto   \n",
       "403756                            0  Canada      Newfoundland    St. John'S   \n",
       "403757                            0  Canada            Quebec   Quebec City   \n",
       "403758                            0  Canada  British Columbia      Victoria   \n",
       "403759                            0  Canada           Ontario        Ottawa   \n",
       "\n",
       "       Postal Code  Gender Education         Salary Marital Status  \\\n",
       "0          T9G 1W3  Female  Bachelor   92552.000000        Married   \n",
       "1          M1R 4K3    Male   College   79359.340907         Single   \n",
       "2          U5I 4F1  Female   College   79359.340907       Divorced   \n",
       "3          V5R 1W3    Male  Bachelor   63253.000000        Married   \n",
       "4          P1L 8X8  Female  Bachelor   91163.000000       Divorced   \n",
       "...            ...     ...       ...            ...            ...   \n",
       "403755     M1R 4K3    Male   College   79359.340907        Married   \n",
       "403756     A1C 6H9    Male    Doctor  217943.000000         Single   \n",
       "403757     G1B 3L5  Female  Bachelor   47670.000000        Married   \n",
       "403758     V10 6T5    Male   College   79359.340907        Married   \n",
       "403759     K1F 2R2  Female  Bachelor   46594.000000        Married   \n",
       "\n",
       "       Loyalty Card       CLV Enrollment Type  Enrollment Year  \\\n",
       "0            Aurora   7919.20        Standard             2016   \n",
       "1              Nova   2887.74        Standard             2013   \n",
       "2              Nova   2838.07        Standard             2016   \n",
       "3              Star   4170.57        Standard             2015   \n",
       "4              Star   6622.05        Standard             2014   \n",
       "...             ...       ...             ...              ...   \n",
       "403755       Aurora   7290.07        Standard             2014   \n",
       "403756         Nova   8564.77        Standard             2012   \n",
       "403757         Nova  20266.50        Standard             2017   \n",
       "403758         Star   2631.56        Standard             2018   \n",
       "403759         Nova   8257.01  2018 Promotion             2018   \n",
       "\n",
       "        Enrollment Month  \n",
       "0                      8  \n",
       "1                      3  \n",
       "2                      7  \n",
       "3                      8  \n",
       "4                      1  \n",
       "...                  ...  \n",
       "403755                 5  \n",
       "403756                 8  \n",
       "403757                 7  \n",
       "403758                 7  \n",
       "403759                 2  \n",
       "\n",
       "[403760 rows x 23 columns]"
      ]
     },
     "execution_count": 366,
     "metadata": {},
     "output_type": "execute_result"
    }
   ],
   "source": [
    "# Unir los dos DataFrames a través de la columna 'Loyalty Number'.\n",
    "data_combinado = pd.merge(df_flight_data, df_loyalty_data, on=\"Loyalty Number\", how=\"left\") # Merge de los DataFrames a través de la clave común por unión interna.\n",
    "# Solo se incluyen las filas donde el \"Loyalty Number\" esté presente en ambos DataFrames. Si un registro está en uno de los DataFrames pero no en el otro, se descarta.\n",
    "data_combinado"
   ]
  },
  {
   "cell_type": "code",
   "execution_count": 367,
   "metadata": {},
   "outputs": [
    {
     "name": "stdout",
     "output_type": "stream",
     "text": [
      "<class 'pandas.core.frame.DataFrame'>\n",
      "RangeIndex: 403760 entries, 0 to 403759\n",
      "Data columns (total 23 columns):\n",
      " #   Column                       Non-Null Count   Dtype  \n",
      "---  ------                       --------------   -----  \n",
      " 0   Loyalty Number               403760 non-null  int64  \n",
      " 1   Year                         403760 non-null  int64  \n",
      " 2   Month                        403760 non-null  int64  \n",
      " 3   Flights Booked               403760 non-null  int64  \n",
      " 4   Flights with Companions      403760 non-null  int64  \n",
      " 5   Total Flights                403760 non-null  int64  \n",
      " 6   Distance                     403760 non-null  int64  \n",
      " 7   Points Accumulated           403760 non-null  float64\n",
      " 8   Points Redeemed              403760 non-null  int64  \n",
      " 9   Dollar Cost Points Redeemed  403760 non-null  int64  \n",
      " 10  Country                      403760 non-null  object \n",
      " 11  Province                     403760 non-null  object \n",
      " 12  City                         403760 non-null  object \n",
      " 13  Postal Code                  403760 non-null  object \n",
      " 14  Gender                       403760 non-null  object \n",
      " 15  Education                    403760 non-null  object \n",
      " 16  Salary                       403760 non-null  float64\n",
      " 17  Marital Status               403760 non-null  object \n",
      " 18  Loyalty Card                 403760 non-null  object \n",
      " 19  CLV                          403760 non-null  float64\n",
      " 20  Enrollment Type              403760 non-null  object \n",
      " 21  Enrollment Year              403760 non-null  int64  \n",
      " 22  Enrollment Month             403760 non-null  int64  \n",
      "dtypes: float64(3), int64(11), object(9)\n",
      "memory usage: 70.9+ MB\n",
      "None\n"
     ]
    }
   ],
   "source": [
    "print(data_combinado.info()) # Muestra la información general sobre las columnas y tipos de datos del dataset combinado."
   ]
  },
  {
   "cell_type": "code",
   "execution_count": 368,
   "metadata": {},
   "outputs": [
    {
     "data": {
      "text/plain": [
       "Loyalty Number                 0\n",
       "Year                           0\n",
       "Month                          0\n",
       "Flights Booked                 0\n",
       "Flights with Companions        0\n",
       "Total Flights                  0\n",
       "Distance                       0\n",
       "Points Accumulated             0\n",
       "Points Redeemed                0\n",
       "Dollar Cost Points Redeemed    0\n",
       "Country                        0\n",
       "Province                       0\n",
       "City                           0\n",
       "Postal Code                    0\n",
       "Gender                         0\n",
       "Education                      0\n",
       "Salary                         0\n",
       "Marital Status                 0\n",
       "Loyalty Card                   0\n",
       "CLV                            0\n",
       "Enrollment Type                0\n",
       "Enrollment Year                0\n",
       "Enrollment Month               0\n",
       "dtype: int64"
      ]
     },
     "execution_count": 368,
     "metadata": {},
     "output_type": "execute_result"
    }
   ],
   "source": [
    "data_combinado.isnull().sum() # Verificar si existen valores nulos en el DataFrame combinado."
   ]
  },
  {
   "cell_type": "code",
   "execution_count": 369,
   "metadata": {},
   "outputs": [],
   "source": [
    "# Guardar el DataFrame combinado en un archivo CSV.\n",
    "data.to_csv(\"data_combinado.csv\", index=False) # index=False evita que se guarde el índice."
   ]
  },
  {
   "cell_type": "markdown",
   "metadata": {},
   "source": [
    "## **Fase 2: Visualización.**\n",
    "Usando las herramientas de visualización que has aprendido durante este módulo, contesta a las siguientes\n",
    "gráficas usando la mejor gráfica que consideres:\n",
    "1. ¿Cómo se distribuye la cantidad de vuelos reservados por mes durante el año?\n",
    "2. ¿Existe una relación entre la distancia de los vuelos y los puntos acumulados por los cliente?\n",
    "3. ¿Cuál es la distribución de los clientes por provincia o estado?\n",
    "4. ¿Cómo se compara el salario promedio entre los diferentes niveles educativos de los clientes?\n",
    "5. ¿Cuál es la proporción de clientes con diferentes tipos de tarjetas de fidelidad?\n",
    "6. ¿Cómo se distribuyen los clientes según su estado civil y género?\n"
   ]
  },
  {
   "cell_type": "code",
   "execution_count": 370,
   "metadata": {},
   "outputs": [],
   "source": [
    "sns.set_theme(style=\"whitegrid\") # Configura el estilo de los gráficos. Aplicar el estilo con cuadrícula."
   ]
  },
  {
   "cell_type": "code",
   "execution_count": 371,
   "metadata": {},
   "outputs": [],
   "source": [
    "warnings.simplefilter(action='ignore', category=FutureWarning) # Suprimir advertencias futuras en los gráficos para evitar mensajes innecesarios al usar la librería Seaborn."
   ]
  },
  {
   "cell_type": "code",
   "execution_count": 372,
   "metadata": {},
   "outputs": [
    {
     "data": {
      "image/png": "[encoded data removed]",
      "text/plain": [
       "<Figure size 1000x500 with 1 Axes>"
      ]
     },
     "metadata": {},
     "output_type": "display_data"
    }
   ],
   "source": [
    "# Distribución de vuelos reservados por mes.\n",
    "# ¿Cómo se distribuye la cantidad de vuelos reservados por mes durante el año?\n",
    "plt.figure(figsize=(10, 5)) # Crea una nueva figura con un tamaño de 10x5 pulgadas para ajustar la visualización del gráfico.\n",
    "sns.lineplot(data=data_combinado, x='Month', y='Flights Booked', color=\"yellow\") # Cuenta la cantidad de vuelos por mes.\n",
    "plt.xticks(range(1, 13)) # Establece los meses en el eje x. Así se muestran todos.\n",
    "plt.title(\"Distribución de vuelos reservados por mes\")\n",
    "plt.xlabel(\"Mes\")\n",
    "plt.ylabel(\"Vuelos reservados\")\n",
    "plt.show()"
   ]
  },
  {
   "cell_type": "markdown",
   "metadata": {},
   "source": [
    "El gráfico muestra que la cantidad de vuelos reservados es bastante variable. Los meses con menos vuelos son enero y febrero. De febrero ha marzo aumenta, aunque de marzo a abril tiene una disminución. De abril a julio tiene un incremento notable llegando a su máxima de vuelos reservados en este último mes. De julio a septiembre disminuye notablemente, pero sigue disminuyendo hasta noiembre que vuelve a subir notablemente hasta diciembre. "
   ]
  },
  {
   "cell_type": "code",
   "execution_count": 373,
   "metadata": {},
   "outputs": [
    {
     "data": {
      "image/png": "[encoded data removed]",
      "text/plain": [
       "<Figure size 1000x500 with 1 Axes>"
      ]
     },
     "metadata": {},
     "output_type": "display_data"
    }
   ],
   "source": [
    "# Relación entre distancia y puntos acumulados.\n",
    "# ¿Existe una relación entre la distancia de los vuelos y los puntos acumulados por los cliente?\n",
    "plt.figure(figsize=(10, 5)) # Crea una nueva figura con un tamaño de 10x5 pulgadas para ajustar la visualización del gráfico.\n",
    "sns.scatterplot(data=data_combinado, x='Distance', y='Points Accumulated', alpha=0.5) # Gráfica la relación entre la distancia y los puntos acumulados.\n",
    "plt.title(\"Relación entre distancia volada y puntos acumulados\")\n",
    "plt.xlabel(\"Distancia\")\n",
    "plt.ylabel(\"Puntos Acumulados\")\n",
    "plt.show()"
   ]
  },
  {
   "cell_type": "markdown",
   "metadata": {},
   "source": [
    "El gráfico muestra que a mayor distancia volada, más puntos acumulan los clientes. Aunque los puntos crecen de manera constante con la distancia, hay algo de variabilidad, posiblemente por factores como el tipo de vuelo o promociones. En resumen, los clientes ganan más puntos cuanto más lejos vuelan."
   ]
  },
  {
   "cell_type": "code",
   "execution_count": 374,
   "metadata": {},
   "outputs": [
    {
     "data": {
      "image/png": "[encoded data removed]",
      "text/plain": [
       "<Figure size 1200x600 with 1 Axes>"
      ]
     },
     "metadata": {},
     "output_type": "display_data"
    }
   ],
   "source": [
    "# Distribución de clientes por provincia/estado.\n",
    "# ¿Cuál es la distribución de los clientes por provincia o estado?\n",
    "plt.figure(figsize=(12, 6)) # Crea una nueva figura con un tamaño de 10x5 pulgadas para ajustar la visualización del gráfico.\n",
    "sns.countplot(y=data_combinado['Province'], order=data_combinado['Province'].value_counts().index, palette=\"cubehelix\") # Muestra la distribución de clientes por provincia ordenadas de mayor a menor en el gráfico.\n",
    "plt.title(\"Distribución de clientes por provincia\")\n",
    "plt.xlabel(\"Cantidad de clientes\")\n",
    "plt.ylabel(\"Provincia\")\n",
    "plt.show()"
   ]
  },
  {
   "cell_type": "markdown",
   "metadata": {},
   "source": [
    "El gráfico muestra que la mayoría de los clientes se encuentran en Ontario, British Columbia y Quebec, mientras que provincias como Prince Edward Island, Yukon y Newfoundland tienen menos clientes. Esto refleja que las provincias más grandes o pobladas tienen más clientes."
   ]
  },
  {
   "cell_type": "code",
   "execution_count": 375,
   "metadata": {},
   "outputs": [
    {
     "data": {
      "image/png": "[encoded data removed]",
      "text/plain": [
       "<Figure size 1000x500 with 1 Axes>"
      ]
     },
     "metadata": {},
     "output_type": "display_data"
    }
   ],
   "source": [
    "# Comparación de salario promedio por nivel educativo.\n",
    "# ¿Cómo se compara el salario promedio entre los diferentes niveles educativos de los clientes?\n",
    "plt.figure(figsize=(10, 5)) # Crea una nueva figura con un tamaño de 10x5 pulgadas para ajustar la visualización del gráfico.\n",
    "sns.barplot( data=data_combinado, x='Education', y='Salary', palette=\"Set3\") # Barplot del salario por nivel educativo.\n",
    "plt.title(\"Salario promedio por nivel educativo\")\n",
    "plt.xlabel(\"Educación del cliente\")\n",
    "plt.ylabel(\"Salario\")\n",
    "plt.xticks(rotation=20) # Rotar etiquetas.\n",
    "plt.show()"
   ]
  },
  {
   "cell_type": "markdown",
   "metadata": {},
   "source": [
    "El gráfico muestra que cuanto mayor es el nivel de educación, mayor es el salario. Por lo que hay una correlación positiva."
   ]
  },
  {
   "cell_type": "code",
   "execution_count": 376,
   "metadata": {},
   "outputs": [
    {
     "data": {
      "image/png": "[encoded data removed]",
      "text/plain": [
       "<Figure size 1000x500 with 1 Axes>"
      ]
     },
     "metadata": {},
     "output_type": "display_data"
    }
   ],
   "source": [
    "# Proporción de clientes según tipo de tarjeta de lealtad.\n",
    "# ¿Cuál es la proporción de clientes con diferentes tipos de tarjetas de fidelidad?\n",
    "plt.figure(figsize=(10, 5)) # Crea una nueva figura con un tamaño de 10x5 pulgadas para ajustar la visualización del gráfico.\n",
    "sns.countplot(data=data_combinado, x='Loyalty Card', palette=\"pastel\") # Muestra la cantidad de clientes por tipo de tarjeta de lealtad.\n",
    "plt.title(\"Proporción de clientes por tipo de tarjeta\")\n",
    "plt.xlabel(\"Tarjeta de Fidelidad\")\n",
    "plt.ylabel(\"Cantidad de clientes\")\n",
    "plt.show()"
   ]
  },
  {
   "cell_type": "markdown",
   "metadata": {},
   "source": [
    "El gráfico muestra que la tarjeta más utilizada entre los clientes es la \"Star\", seguida de la tarjeta \"Nova\" y siendo la menos usada la tarjeta \"Aurora\"."
   ]
  },
  {
   "cell_type": "code",
   "execution_count": 377,
   "metadata": {},
   "outputs": [
    {
     "data": {
      "image/png": "[encoded data removed]",
      "text/plain": [
       "<Figure size 1000x500 with 1 Axes>"
      ]
     },
     "metadata": {},
     "output_type": "display_data"
    }
   ],
   "source": [
    "# Distribución de clientes según estado civil y género.\n",
    "# ¿Cómo se distribuyen los clientes según su estado civil y género?\n",
    "plt.figure(figsize=(10, 5)) # Crea una nueva figura con un tamaño de 10x5 pulgadas para ajustar la visualización del gráfico.\n",
    "sns.countplot(data=data_combinado, x='Marital Status', hue='Gender', palette=[\"#B8004B\", \"#004D73\"]) # Agrupa clientes por estado civil y género.\n",
    "plt.title(\"Distribución de clientes por estado civil y género\")\n",
    "plt.xlabel(\"Estado Civil\")\n",
    "plt.ylabel(\"Cantidad de clientes\")\n",
    "plt.show()"
   ]
  },
  {
   "cell_type": "markdown",
   "metadata": {},
   "source": [
    "El gráfico muestra que la cantidad de clientes casados es notablemente mayor que la de solteros o divorciados. Además de que la diferencia entre géneros no tiene apenas relevancia ya que no se ve una diferencia muy notoria."
   ]
  },
  {
   "cell_type": "markdown",
   "metadata": {},
   "source": [
    "## **Fase 3 (BONUS): Evaluación de Diferencias en Reservas de Vuelos por Nivel Educativo.**\n",
    "\n",
    "Utilizando un conjunto de datos que hemos compartido, se busca evaluar si existen diferencias\n",
    "significativas en el número de vuelos reservados según el nivel educativo de los clientes. Para ello, los\n",
    "pasos que deberás seguir son:\n",
    "- **Preparación de Datos:** Filtra el conjunto de datos para incluir únicamente las columnas relevantes:\n",
    "'Flights Booked' y 'Education'.\n",
    "- **Análisis Descriptivo:** Agrupa los datos por nivel educativo y calcula estadísticas descriptivas\n",
    "básicas (como el promedio, la desviación estándar) del número de vuelos reservados para cada\n",
    "grupo.\n",
    "- **Prueba Estadística:** Realiza una prueba de hipótesis para determinar si existe una diferencia\n",
    "significativa en el número de vuelos reservados entre los diferentes niveles educativos."
   ]
  },
  {
   "cell_type": "code",
   "execution_count": 378,
   "metadata": {},
   "outputs": [
    {
     "data": {
      "text/html": [
       "<div>\n",
       "<style scoped>\n",
       "    .dataframe tbody tr th:only-of-type {\n",
       "        vertical-align: middle;\n",
       "    }\n",
       "\n",
       "    .dataframe tbody tr th {\n",
       "        vertical-align: top;\n",
       "    }\n",
       "\n",
       "    .dataframe thead th {\n",
       "        text-align: right;\n",
       "    }\n",
       "</style>\n",
       "<table border=\"1\" class=\"dataframe\">\n",
       "  <thead>\n",
       "    <tr style=\"text-align: right;\">\n",
       "      <th></th>\n",
       "      <th>Flights Booked</th>\n",
       "      <th>Education</th>\n",
       "    </tr>\n",
       "  </thead>\n",
       "  <tbody>\n",
       "    <tr>\n",
       "      <th>0</th>\n",
       "      <td>3</td>\n",
       "      <td>Bachelor</td>\n",
       "    </tr>\n",
       "    <tr>\n",
       "      <th>1</th>\n",
       "      <td>10</td>\n",
       "      <td>College</td>\n",
       "    </tr>\n",
       "    <tr>\n",
       "      <th>2</th>\n",
       "      <td>6</td>\n",
       "      <td>College</td>\n",
       "    </tr>\n",
       "    <tr>\n",
       "      <th>3</th>\n",
       "      <td>0</td>\n",
       "      <td>Bachelor</td>\n",
       "    </tr>\n",
       "    <tr>\n",
       "      <th>4</th>\n",
       "      <td>0</td>\n",
       "      <td>Bachelor</td>\n",
       "    </tr>\n",
       "    <tr>\n",
       "      <th>...</th>\n",
       "      <td>...</td>\n",
       "      <td>...</td>\n",
       "    </tr>\n",
       "    <tr>\n",
       "      <th>403755</th>\n",
       "      <td>0</td>\n",
       "      <td>College</td>\n",
       "    </tr>\n",
       "    <tr>\n",
       "      <th>403756</th>\n",
       "      <td>0</td>\n",
       "      <td>Doctor</td>\n",
       "    </tr>\n",
       "    <tr>\n",
       "      <th>403757</th>\n",
       "      <td>3</td>\n",
       "      <td>Bachelor</td>\n",
       "    </tr>\n",
       "    <tr>\n",
       "      <th>403758</th>\n",
       "      <td>0</td>\n",
       "      <td>College</td>\n",
       "    </tr>\n",
       "    <tr>\n",
       "      <th>403759</th>\n",
       "      <td>0</td>\n",
       "      <td>Bachelor</td>\n",
       "    </tr>\n",
       "  </tbody>\n",
       "</table>\n",
       "<p>403760 rows × 2 columns</p>\n",
       "</div>"
      ],
      "text/plain": [
       "        Flights Booked Education\n",
       "0                    3  Bachelor\n",
       "1                   10   College\n",
       "2                    6   College\n",
       "3                    0  Bachelor\n",
       "4                    0  Bachelor\n",
       "...                ...       ...\n",
       "403755               0   College\n",
       "403756               0    Doctor\n",
       "403757               3  Bachelor\n",
       "403758               0   College\n",
       "403759               0  Bachelor\n",
       "\n",
       "[403760 rows x 2 columns]"
      ]
     },
     "execution_count": 378,
     "metadata": {},
     "output_type": "execute_result"
    }
   ],
   "source": [
    "# Filtrar datos relevantes para la prueba de hipótesis.\n",
    "educacion_vuelos = data_combinado[['Flights Booked', 'Education']]\n",
    "educacion_vuelos"
   ]
  },
  {
   "cell_type": "code",
   "execution_count": 379,
   "metadata": {},
   "outputs": [
    {
     "name": "stdout",
     "output_type": "stream",
     "text": [
      "                          mean       std   count\n",
      "Education                                       \n",
      "Bachelor              4.110288  5.221671  252567\n",
      "College               4.169744  5.246040  102260\n",
      "Doctor                4.175512  5.256971   17731\n",
      "High School Or Below  4.176209  5.239267   18915\n",
      "Master                4.200700  5.213956   12287\n"
     ]
    }
   ],
   "source": [
    "# Agrupar por nivel educativo y calcular estadísticas descriptivas.\n",
    "grupos_educacion = educacion_vuelos.groupby('Education')[\"Flights Booked\"].agg([\"mean\", \"std\", \"count\"])  # Calcula media, desviación estándar y cantidad de datos por nivel educativo.\n",
    "print(grupos_educacion)"
   ]
  }
 ],
 "metadata": {
  "kernelspec": {
   "display_name": "Python 3 (ipykernel)",
   "language": "python",
   "name": "python3"
  },
  "language_info": {
   "codemirror_mode": {
    "name": "ipython",
    "version": 3
   },
   "file_extension": ".py",
   "mimetype": "text/x-python",
   "name": "python",
   "nbconvert_exporter": "python",
   "pygments_lexer": "ipython3",
   "version": "3.12.9"
  }
 },
 "nbformat": 4,
 "nbformat_minor": 2
}
